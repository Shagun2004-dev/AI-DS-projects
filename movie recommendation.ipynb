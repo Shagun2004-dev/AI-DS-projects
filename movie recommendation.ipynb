{
  "cells": [
    {
      "cell_type": "code",
      "execution_count": null,
      "metadata": {
        "colab": {
          "base_uri": "https://localhost:8080/"
        },
        "id": "PBBnrf8CdqOe",
        "outputId": "93a258df-f410-4456-cd68-8583a1cd0c79"
      },
      "outputs": [
        {
          "name": "stdout",
          "output_type": "stream",
          "text": [
            "Enter a movie name: la la land\n",
            "Movies similar to 'la la land':\n",
            "- Sing Street\n",
            "- Youth\n",
            "- Magic Mike XXL\n",
            "- Footloose\n",
            "- Pitch Perfect 2\n"
          ]
        }
      ],
      "source": [
        "import pandas as pd\n",
        "from sklearn.feature_extraction.text import TfidfVectorizer\n",
        "from sklearn.metrics.pairwise import cosine_similarity\n",
        "\n",
        "# Load the dataset\n",
        "file_path = \"IMDB-Movie-Data.csv\"  # Change this if the file path is different\n",
        "df = pd.read_csv(file_path)\n",
        "\n",
        "# Fill NaN values in Genre column\n",
        "df[\"Genre\"] = df[\"Genre\"].fillna(\"\")\n",
        "\n",
        "# TF-IDF Vectorization for Genre column\n",
        "tfidf = TfidfVectorizer(stop_words=\"english\")\n",
        "genre_matrix = tfidf.fit_transform(df[\"Genre\"])\n",
        "\n",
        "# Compute cosine similarity between movie genres\n",
        "cosine_sim = cosine_similarity(genre_matrix, genre_matrix)\n",
        "\n",
        "# Function to get movie recommendations based on title\n",
        "def recommend_movies(title, num_recommendations=5):\n",
        "    # Get the movie index\n",
        "    idx = df[df[\"Title\"].str.lower() == title.lower()].index\n",
        "    if len(idx) == 0:\n",
        "        return \"Movie not found!\"\n",
        "\n",
        "    idx = idx[0]\n",
        "\n",
        "    # Get similarity scores for all movies\n",
        "    sim_scores = list(enumerate(cosine_sim[idx]))\n",
        "\n",
        "    # Sort movies based on similarity score\n",
        "    sim_scores = sorted(sim_scores, key=lambda x: x[1], reverse=True)\n",
        "\n",
        "    # Get the top N similar movies (excluding the input movie itself)\n",
        "    movie_indices = [i[0] for i in sim_scores[1:num_recommendations+1]]\n",
        "\n",
        "    # Return movie titles\n",
        "    return df[\"Title\"].iloc[movie_indices].tolist()\n",
        "\n",
        "# Usage\n",
        "if __name__ == \"__main__\":\n",
        "    movie_name = input(\"Enter a movie name: \")  # User input for movie name\n",
        "    recommendations = recommend_movies(movie_name)\n",
        "    print(f\"Movies similar to '{movie_name}':\")\n",
        "    for movie in recommendations:\n",
        "        print(\"-\", movie)\n"
      ]
    }
  ],
  "metadata": {
    "colab": {
      "provenance": []
    },
    "kernelspec": {
      "display_name": "Python 3",
      "name": "python3"
    },
    "language_info": {
      "name": "python"
    }
  },
  "nbformat": 4,
  "nbformat_minor": 0
}
